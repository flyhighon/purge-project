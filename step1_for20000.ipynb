{
  "cells": [
    {
      "cell_type": "code",
      "execution_count": 11,
      "metadata": {
        "colab": {
          "base_uri": "https://localhost:8080/",
          "height": 90
        },
        "id": "w563-X2exU6x",
        "outputId": "96a44d52-96a2-408e-abfe-f825ee7729e9"
      },
      "outputs": [
        {
          "output_type": "display_data",
          "data": {
            "text/plain": [
              "<IPython.core.display.HTML object>"
            ],
            "text/html": [
              "\n",
              "     <input type=\"file\" id=\"files-2f7d3ba4-8996-4de6-ad8a-35a03df8bd29\" name=\"files[]\" multiple disabled\n",
              "        style=\"border:none\" />\n",
              "     <output id=\"result-2f7d3ba4-8996-4de6-ad8a-35a03df8bd29\">\n",
              "      Upload widget is only available when the cell has been executed in the\n",
              "      current browser session. Please rerun this cell to enable.\n",
              "      </output>\n",
              "      <script>// Copyright 2017 Google LLC\n",
              "//\n",
              "// Licensed under the Apache License, Version 2.0 (the \"License\");\n",
              "// you may not use this file except in compliance with the License.\n",
              "// You may obtain a copy of the License at\n",
              "//\n",
              "//      http://www.apache.org/licenses/LICENSE-2.0\n",
              "//\n",
              "// Unless required by applicable law or agreed to in writing, software\n",
              "// distributed under the License is distributed on an \"AS IS\" BASIS,\n",
              "// WITHOUT WARRANTIES OR CONDITIONS OF ANY KIND, either express or implied.\n",
              "// See the License for the specific language governing permissions and\n",
              "// limitations under the License.\n",
              "\n",
              "/**\n",
              " * @fileoverview Helpers for google.colab Python module.\n",
              " */\n",
              "(function(scope) {\n",
              "function span(text, styleAttributes = {}) {\n",
              "  const element = document.createElement('span');\n",
              "  element.textContent = text;\n",
              "  for (const key of Object.keys(styleAttributes)) {\n",
              "    element.style[key] = styleAttributes[key];\n",
              "  }\n",
              "  return element;\n",
              "}\n",
              "\n",
              "// Max number of bytes which will be uploaded at a time.\n",
              "const MAX_PAYLOAD_SIZE = 100 * 1024;\n",
              "\n",
              "function _uploadFiles(inputId, outputId) {\n",
              "  const steps = uploadFilesStep(inputId, outputId);\n",
              "  const outputElement = document.getElementById(outputId);\n",
              "  // Cache steps on the outputElement to make it available for the next call\n",
              "  // to uploadFilesContinue from Python.\n",
              "  outputElement.steps = steps;\n",
              "\n",
              "  return _uploadFilesContinue(outputId);\n",
              "}\n",
              "\n",
              "// This is roughly an async generator (not supported in the browser yet),\n",
              "// where there are multiple asynchronous steps and the Python side is going\n",
              "// to poll for completion of each step.\n",
              "// This uses a Promise to block the python side on completion of each step,\n",
              "// then passes the result of the previous step as the input to the next step.\n",
              "function _uploadFilesContinue(outputId) {\n",
              "  const outputElement = document.getElementById(outputId);\n",
              "  const steps = outputElement.steps;\n",
              "\n",
              "  const next = steps.next(outputElement.lastPromiseValue);\n",
              "  return Promise.resolve(next.value.promise).then((value) => {\n",
              "    // Cache the last promise value to make it available to the next\n",
              "    // step of the generator.\n",
              "    outputElement.lastPromiseValue = value;\n",
              "    return next.value.response;\n",
              "  });\n",
              "}\n",
              "\n",
              "/**\n",
              " * Generator function which is called between each async step of the upload\n",
              " * process.\n",
              " * @param {string} inputId Element ID of the input file picker element.\n",
              " * @param {string} outputId Element ID of the output display.\n",
              " * @return {!Iterable<!Object>} Iterable of next steps.\n",
              " */\n",
              "function* uploadFilesStep(inputId, outputId) {\n",
              "  const inputElement = document.getElementById(inputId);\n",
              "  inputElement.disabled = false;\n",
              "\n",
              "  const outputElement = document.getElementById(outputId);\n",
              "  outputElement.innerHTML = '';\n",
              "\n",
              "  const pickedPromise = new Promise((resolve) => {\n",
              "    inputElement.addEventListener('change', (e) => {\n",
              "      resolve(e.target.files);\n",
              "    });\n",
              "  });\n",
              "\n",
              "  const cancel = document.createElement('button');\n",
              "  inputElement.parentElement.appendChild(cancel);\n",
              "  cancel.textContent = 'Cancel upload';\n",
              "  const cancelPromise = new Promise((resolve) => {\n",
              "    cancel.onclick = () => {\n",
              "      resolve(null);\n",
              "    };\n",
              "  });\n",
              "\n",
              "  // Wait for the user to pick the files.\n",
              "  const files = yield {\n",
              "    promise: Promise.race([pickedPromise, cancelPromise]),\n",
              "    response: {\n",
              "      action: 'starting',\n",
              "    }\n",
              "  };\n",
              "\n",
              "  cancel.remove();\n",
              "\n",
              "  // Disable the input element since further picks are not allowed.\n",
              "  inputElement.disabled = true;\n",
              "\n",
              "  if (!files) {\n",
              "    return {\n",
              "      response: {\n",
              "        action: 'complete',\n",
              "      }\n",
              "    };\n",
              "  }\n",
              "\n",
              "  for (const file of files) {\n",
              "    const li = document.createElement('li');\n",
              "    li.append(span(file.name, {fontWeight: 'bold'}));\n",
              "    li.append(span(\n",
              "        `(${file.type || 'n/a'}) - ${file.size} bytes, ` +\n",
              "        `last modified: ${\n",
              "            file.lastModifiedDate ? file.lastModifiedDate.toLocaleDateString() :\n",
              "                                    'n/a'} - `));\n",
              "    const percent = span('0% done');\n",
              "    li.appendChild(percent);\n",
              "\n",
              "    outputElement.appendChild(li);\n",
              "\n",
              "    const fileDataPromise = new Promise((resolve) => {\n",
              "      const reader = new FileReader();\n",
              "      reader.onload = (e) => {\n",
              "        resolve(e.target.result);\n",
              "      };\n",
              "      reader.readAsArrayBuffer(file);\n",
              "    });\n",
              "    // Wait for the data to be ready.\n",
              "    let fileData = yield {\n",
              "      promise: fileDataPromise,\n",
              "      response: {\n",
              "        action: 'continue',\n",
              "      }\n",
              "    };\n",
              "\n",
              "    // Use a chunked sending to avoid message size limits. See b/62115660.\n",
              "    let position = 0;\n",
              "    do {\n",
              "      const length = Math.min(fileData.byteLength - position, MAX_PAYLOAD_SIZE);\n",
              "      const chunk = new Uint8Array(fileData, position, length);\n",
              "      position += length;\n",
              "\n",
              "      const base64 = btoa(String.fromCharCode.apply(null, chunk));\n",
              "      yield {\n",
              "        response: {\n",
              "          action: 'append',\n",
              "          file: file.name,\n",
              "          data: base64,\n",
              "        },\n",
              "      };\n",
              "\n",
              "      let percentDone = fileData.byteLength === 0 ?\n",
              "          100 :\n",
              "          Math.round((position / fileData.byteLength) * 100);\n",
              "      percent.textContent = `${percentDone}% done`;\n",
              "\n",
              "    } while (position < fileData.byteLength);\n",
              "  }\n",
              "\n",
              "  // All done.\n",
              "  yield {\n",
              "    response: {\n",
              "      action: 'complete',\n",
              "    }\n",
              "  };\n",
              "}\n",
              "\n",
              "scope.google = scope.google || {};\n",
              "scope.google.colab = scope.google.colab || {};\n",
              "scope.google.colab._files = {\n",
              "  _uploadFiles,\n",
              "  _uploadFilesContinue,\n",
              "};\n",
              "})(self);\n",
              "</script> "
            ]
          },
          "metadata": {}
        },
        {
          "output_type": "stream",
          "name": "stdout",
          "text": [
            "Saving scopus_old.csv to scopus_old (3).csv\n",
            "User uploaded file \"scopus_old.csv\" with length 3158182 bytes\n"
          ]
        }
      ],
      "source": [
        "from google.colab import files\n",
        "uploaded = files.upload()\n",
        "for fn in uploaded.keys():\n",
        "  print('User uploaded file \"{name}\" with length {length} bytes'.format(\n",
        "      name=fn, length=len(uploaded[fn])))"
      ]
    },
    {
      "cell_type": "code",
      "source": [
        "pwd"
      ],
      "metadata": {
        "colab": {
          "base_uri": "https://localhost:8080/",
          "height": 35
        },
        "id": "9jfcFldoUI64",
        "outputId": "298eeebe-d58f-4389-d80d-126d694c2ddb"
      },
      "execution_count": 26,
      "outputs": [
        {
          "output_type": "execute_result",
          "data": {
            "text/plain": [
              "'/content'"
            ],
            "application/vnd.google.colaboratory.intrinsic+json": {
              "type": "string"
            }
          },
          "metadata": {},
          "execution_count": 26
        }
      ]
    },
    {
      "cell_type": "code",
      "source": [
        "import pandas as pd\n",
        "scopus=pd.read_csv('/content/scopus_new.csv',sep=',')"
      ],
      "metadata": {
        "id": "hY_P8K5i1i2x"
      },
      "execution_count": 173,
      "outputs": []
    },
    {
      "cell_type": "code",
      "execution_count": 174,
      "metadata": {
        "id": "swOboESDxU6y"
      },
      "outputs": [],
      "source": [
        "scopus.dropna(axis=0, how='any',subset=['Correspondence Address','Authors'],inplace=True)\n",
        "#scopus.dropna(axis=0, how='any',subset=['Authors'],inplace=True)"
      ]
    },
    {
      "cell_type": "code",
      "execution_count": 175,
      "metadata": {
        "id": "ajUYoycmxU6z"
      },
      "outputs": [],
      "source": [
        "scopus[['cor_name','cor_aff','email']]=scopus['Correspondence Address'].str.split(';',expand=True).iloc[:,:3]"
      ]
    },
    {
      "cell_type": "code",
      "execution_count": 176,
      "metadata": {
        "id": "c4uFfxSnxU6z"
      },
      "outputs": [],
      "source": [
        "scopus['cor_ins']=scopus['cor_aff'].fillna('Nothing').map(lambda x: x.split(',')[0])\n",
        "scopus['country']=scopus['cor_aff'].fillna('Nothing').map(lambda x: x.split(',')[-1])"
      ]
    },
    {
      "cell_type": "code",
      "source": [
        "scopus['Author full names']"
      ],
      "metadata": {
        "colab": {
          "base_uri": "https://localhost:8080/"
        },
        "id": "XCE1RGVecN39",
        "outputId": "e3178870-6a73-4397-aa35-f409571d4e23"
      },
      "execution_count": 177,
      "outputs": [
        {
          "output_type": "execute_result",
          "data": {
            "text/plain": [
              "0        Li, Biao (57811009600); Yu, Shiting (580548620...\n",
              "1        Zupanič, Franc (6603339408); Klemenc, Jernej (...\n",
              "3        Ning, Luyuan (57219982001); Cai, Zhenwei (5719...\n",
              "4        Yi, Jianlin (57194776896); Meng, Zhiqiang (572...\n",
              "5        Cunningham, Patrick R. (57208263230); Green, P...\n",
              "                               ...                        \n",
              "19989    Wazwaz, Abdul-Majid (7006540445); Xu, Gui-Qion...\n",
              "19993    Ünal, Ahsen (57222624090); Özer, Işıl (5722262...\n",
              "19994    Wu, Hao (57208154321); Levinson, David (356098...\n",
              "19997    Zhang, Jian (57205065120); Li, Shucai (3526897...\n",
              "19999    Andriani, Yosephine (18933378400); Wang, Xiaob...\n",
              "Name: Author full names, Length: 16141, dtype: object"
            ]
          },
          "metadata": {},
          "execution_count": 177
        }
      ]
    },
    {
      "cell_type": "code",
      "source": [
        "sum(scopus['country'].isnull())"
      ],
      "metadata": {
        "colab": {
          "base_uri": "https://localhost:8080/"
        },
        "id": "vZa1CCpBYQSM",
        "outputId": "7e2cb665-1e47-4a82-9bcb-664bf683dd0e"
      },
      "execution_count": 178,
      "outputs": [
        {
          "output_type": "execute_result",
          "data": {
            "text/plain": [
              "0"
            ]
          },
          "metadata": {},
          "execution_count": 178
        }
      ]
    },
    {
      "cell_type": "code",
      "source": [
        "scopus['email'].value_counts()"
      ],
      "metadata": {
        "colab": {
          "base_uri": "https://localhost:8080/"
        },
        "id": "EA6gbVsUZ6aJ",
        "outputId": "2657f8cd-aa88-4d74-d0b4-af604e207d4a"
      },
      "execution_count": 179,
      "outputs": [
        {
          "output_type": "execute_result",
          "data": {
            "text/plain": [
              " email: athens@uci.edu                  13\n",
              " email: xin.ren@njtech.edu.cn           13\n",
              " email: zhenzhoulu@nwpu.edu.cn          12\n",
              " email: mikos@rice.edu                   9\n",
              " email: qjiang@whrsm.ac.cn               9\n",
              "                                        ..\n",
              " email: jmiguel@ubu.es                   1\n",
              " email: aakhter@wpi.edu                  1\n",
              " email: kg382@cam.ac.uk                  1\n",
              " email: candon.michael@rmit.edu.au       1\n",
              " email: andrianiy@imre.a-star.edu.sg     1\n",
              "Name: email, Length: 13909, dtype: int64"
            ]
          },
          "metadata": {},
          "execution_count": 179
        }
      ]
    },
    {
      "cell_type": "code",
      "source": [
        "scopus['email']=scopus['email'].astype(str)"
      ],
      "metadata": {
        "id": "WzR9e_7vbC8g"
      },
      "execution_count": 180,
      "outputs": []
    },
    {
      "cell_type": "code",
      "execution_count": 181,
      "metadata": {
        "id": "vgYkgvX2xU6z"
      },
      "outputs": [],
      "source": [
        "scopus['email']=scopus['email'].map(lambda x: x[7:] if x is not None else 0)\n"
      ]
    },
    {
      "cell_type": "code",
      "source": [
        "scopus.head()"
      ],
      "metadata": {
        "colab": {
          "base_uri": "https://localhost:8080/",
          "height": 698
        },
        "id": "VVHidb2cg39d",
        "outputId": "b3c4e3f4-fe1b-447b-ff33-9d2328ed2e1c"
      },
      "execution_count": 186,
      "outputs": [
        {
          "output_type": "execute_result",
          "data": {
            "text/plain": [
              "                                             Authors  \\\n",
              "0  Li B.; Yu S.; Gao B.; Li Y.; Wu F.; Xia D.; Ch...   \n",
              "1   Zupanič F.; Klemenc J.; Steinacher M.; Glodež S.   \n",
              "3          Ning L.; Cai Z.; Dong H.; Liu Y.; Wang W.   \n",
              "4                 Yi J.; Meng Z.; Chen J.; Chen C.Q.   \n",
              "5  Cunningham P.R.; Green P.G.; Parikh S.J.; Harv...   \n",
              "\n",
              "                                   Author full names  \\\n",
              "0  Li, Biao (57811009600); Yu, Shiting (580548620...   \n",
              "1  Zupanič, Franc (6603339408); Klemenc, Jernej (...   \n",
              "3  Ning, Luyuan (57219982001); Cai, Zhenwei (5719...   \n",
              "4  Yi, Jianlin (57194776896); Meng, Zhiqiang (572...   \n",
              "5  Cunningham, Patrick R. (57208263230); Green, P...   \n",
              "\n",
              "                                        Author(s) ID  \\\n",
              "0  57811009600; 58054862000; 58079142500; 5721032...   \n",
              "1    6603339408; 6603917585; 56481434100; 7004485428   \n",
              "3  57219982001; 57191578291; 57700927600; 5808933...   \n",
              "4  57194776896; 57218292847; 58080353400; 3526140...   \n",
              "5  57208263230; 58087726100; 58087641300; 7403581...   \n",
              "\n",
              "                                              Titles  Year  \\\n",
              "0  Effect of recycled aggregate and steel fiber c...  2023   \n",
              "1  Microstructure, mechanical properties and fati...  2023   \n",
              "3  A peridynamic-informed neural network for cont...  2023   \n",
              "4  Dispersive higher harmonic generation and enha...  2023   \n",
              "5  Engineering the performance of post-consumer c...  2023   \n",
              "\n",
              "                                        Source title Volume Issue Art. No.  \\\n",
              "0                    Journal of Building Engineering     66   NaN   105939   \n",
              "1                    Journal of Alloys and Compounds    941   NaN   168976   \n",
              "3  Computer Methods in Applied Mechanics and Engi...    407   NaN   115909   \n",
              "4       International Journal of Mechanical Sciences    246   NaN   108146   \n",
              "5                Construction and Building Materials    368   NaN   130451   \n",
              "\n",
              "  Page start  ... Document Type  Publication Stage  \\\n",
              "0        NaN  ...       Article              Final   \n",
              "1        NaN  ...       Article              Final   \n",
              "3        NaN  ...       Article              Final   \n",
              "4        NaN  ...       Article              Final   \n",
              "5        NaN  ...       Article              Final   \n",
              "\n",
              "                                Open Access  Source                 EID  \\\n",
              "0                                       NaN  Scopus  2-s2.0-85146840816   \n",
              "1                                       NaN  Scopus  2-s2.0-85146826865   \n",
              "3                                       NaN  Scopus  2-s2.0-85147332641   \n",
              "4                                       NaN  Scopus  2-s2.0-85146957544   \n",
              "5  All Open Access; Hybrid Gold Open Access  Scopus  2-s2.0-85147259294   \n",
              "\n",
              "          cor_name                                            cor_aff  \\\n",
              "0            B. Li   School of Civil Engineering, Architecture and...   \n",
              "1        S. Glodež   University of Maribor, Faculty of Mechanical ...   \n",
              "3          W. Wang   Key Laboratory of Power Machinery and Enginee...   \n",
              "4        C.Q. Chen   Department of Engineering Mechanics, CNMM and...   \n",
              "5  P.R. Cunningham   Department of Civil and Environmental Enginee...   \n",
              "\n",
              "                       email  \\\n",
              "0         libiao@hbut.edu.cn   \n",
              "1        srecko.glodez@um.si   \n",
              "3     wangwz0214@sjtu.edu.cn   \n",
              "4     chencq@tsinghua.edu.cn   \n",
              "5   prcunningham@ucdavis.edu   \n",
              "\n",
              "                                             cor_ins         country  \n",
              "0                        School of Civil Engineering           China  \n",
              "1                              University of Maribor        Slovenia  \n",
              "3   Key Laboratory of Power Machinery and Enginee...           China  \n",
              "4                Department of Engineering Mechanics           China  \n",
              "5   Department of Civil and Environmental Enginee...   United States  \n",
              "\n",
              "[5 rows x 38 columns]"
            ],
            "text/html": [
              "\n",
              "  <div id=\"df-ac84eb07-3c14-4277-bedd-70ade1fe773e\">\n",
              "    <div class=\"colab-df-container\">\n",
              "      <div>\n",
              "<style scoped>\n",
              "    .dataframe tbody tr th:only-of-type {\n",
              "        vertical-align: middle;\n",
              "    }\n",
              "\n",
              "    .dataframe tbody tr th {\n",
              "        vertical-align: top;\n",
              "    }\n",
              "\n",
              "    .dataframe thead th {\n",
              "        text-align: right;\n",
              "    }\n",
              "</style>\n",
              "<table border=\"1\" class=\"dataframe\">\n",
              "  <thead>\n",
              "    <tr style=\"text-align: right;\">\n",
              "      <th></th>\n",
              "      <th>Authors</th>\n",
              "      <th>Author full names</th>\n",
              "      <th>Author(s) ID</th>\n",
              "      <th>Titles</th>\n",
              "      <th>Year</th>\n",
              "      <th>Source title</th>\n",
              "      <th>Volume</th>\n",
              "      <th>Issue</th>\n",
              "      <th>Art. No.</th>\n",
              "      <th>Page start</th>\n",
              "      <th>...</th>\n",
              "      <th>Document Type</th>\n",
              "      <th>Publication Stage</th>\n",
              "      <th>Open Access</th>\n",
              "      <th>Source</th>\n",
              "      <th>EID</th>\n",
              "      <th>cor_name</th>\n",
              "      <th>cor_aff</th>\n",
              "      <th>email</th>\n",
              "      <th>cor_ins</th>\n",
              "      <th>country</th>\n",
              "    </tr>\n",
              "  </thead>\n",
              "  <tbody>\n",
              "    <tr>\n",
              "      <th>0</th>\n",
              "      <td>Li B.; Yu S.; Gao B.; Li Y.; Wu F.; Xia D.; Ch...</td>\n",
              "      <td>Li, Biao (57811009600); Yu, Shiting (580548620...</td>\n",
              "      <td>57811009600; 58054862000; 58079142500; 5721032...</td>\n",
              "      <td>Effect of recycled aggregate and steel fiber c...</td>\n",
              "      <td>2023</td>\n",
              "      <td>Journal of Building Engineering</td>\n",
              "      <td>66</td>\n",
              "      <td>NaN</td>\n",
              "      <td>105939</td>\n",
              "      <td>NaN</td>\n",
              "      <td>...</td>\n",
              "      <td>Article</td>\n",
              "      <td>Final</td>\n",
              "      <td>NaN</td>\n",
              "      <td>Scopus</td>\n",
              "      <td>2-s2.0-85146840816</td>\n",
              "      <td>B. Li</td>\n",
              "      <td>School of Civil Engineering, Architecture and...</td>\n",
              "      <td>libiao@hbut.edu.cn</td>\n",
              "      <td>School of Civil Engineering</td>\n",
              "      <td>China</td>\n",
              "    </tr>\n",
              "    <tr>\n",
              "      <th>1</th>\n",
              "      <td>Zupanič F.; Klemenc J.; Steinacher M.; Glodež S.</td>\n",
              "      <td>Zupanič, Franc (6603339408); Klemenc, Jernej (...</td>\n",
              "      <td>6603339408; 6603917585; 56481434100; 7004485428</td>\n",
              "      <td>Microstructure, mechanical properties and fati...</td>\n",
              "      <td>2023</td>\n",
              "      <td>Journal of Alloys and Compounds</td>\n",
              "      <td>941</td>\n",
              "      <td>NaN</td>\n",
              "      <td>168976</td>\n",
              "      <td>NaN</td>\n",
              "      <td>...</td>\n",
              "      <td>Article</td>\n",
              "      <td>Final</td>\n",
              "      <td>NaN</td>\n",
              "      <td>Scopus</td>\n",
              "      <td>2-s2.0-85146826865</td>\n",
              "      <td>S. Glodež</td>\n",
              "      <td>University of Maribor, Faculty of Mechanical ...</td>\n",
              "      <td>srecko.glodez@um.si</td>\n",
              "      <td>University of Maribor</td>\n",
              "      <td>Slovenia</td>\n",
              "    </tr>\n",
              "    <tr>\n",
              "      <th>3</th>\n",
              "      <td>Ning L.; Cai Z.; Dong H.; Liu Y.; Wang W.</td>\n",
              "      <td>Ning, Luyuan (57219982001); Cai, Zhenwei (5719...</td>\n",
              "      <td>57219982001; 57191578291; 57700927600; 5808933...</td>\n",
              "      <td>A peridynamic-informed neural network for cont...</td>\n",
              "      <td>2023</td>\n",
              "      <td>Computer Methods in Applied Mechanics and Engi...</td>\n",
              "      <td>407</td>\n",
              "      <td>NaN</td>\n",
              "      <td>115909</td>\n",
              "      <td>NaN</td>\n",
              "      <td>...</td>\n",
              "      <td>Article</td>\n",
              "      <td>Final</td>\n",
              "      <td>NaN</td>\n",
              "      <td>Scopus</td>\n",
              "      <td>2-s2.0-85147332641</td>\n",
              "      <td>W. Wang</td>\n",
              "      <td>Key Laboratory of Power Machinery and Enginee...</td>\n",
              "      <td>wangwz0214@sjtu.edu.cn</td>\n",
              "      <td>Key Laboratory of Power Machinery and Enginee...</td>\n",
              "      <td>China</td>\n",
              "    </tr>\n",
              "    <tr>\n",
              "      <th>4</th>\n",
              "      <td>Yi J.; Meng Z.; Chen J.; Chen C.Q.</td>\n",
              "      <td>Yi, Jianlin (57194776896); Meng, Zhiqiang (572...</td>\n",
              "      <td>57194776896; 57218292847; 58080353400; 3526140...</td>\n",
              "      <td>Dispersive higher harmonic generation and enha...</td>\n",
              "      <td>2023</td>\n",
              "      <td>International Journal of Mechanical Sciences</td>\n",
              "      <td>246</td>\n",
              "      <td>NaN</td>\n",
              "      <td>108146</td>\n",
              "      <td>NaN</td>\n",
              "      <td>...</td>\n",
              "      <td>Article</td>\n",
              "      <td>Final</td>\n",
              "      <td>NaN</td>\n",
              "      <td>Scopus</td>\n",
              "      <td>2-s2.0-85146957544</td>\n",
              "      <td>C.Q. Chen</td>\n",
              "      <td>Department of Engineering Mechanics, CNMM and...</td>\n",
              "      <td>chencq@tsinghua.edu.cn</td>\n",
              "      <td>Department of Engineering Mechanics</td>\n",
              "      <td>China</td>\n",
              "    </tr>\n",
              "    <tr>\n",
              "      <th>5</th>\n",
              "      <td>Cunningham P.R.; Green P.G.; Parikh S.J.; Harv...</td>\n",
              "      <td>Cunningham, Patrick R. (57208263230); Green, P...</td>\n",
              "      <td>57208263230; 58087726100; 58087641300; 7403581...</td>\n",
              "      <td>Engineering the performance of post-consumer c...</td>\n",
              "      <td>2023</td>\n",
              "      <td>Construction and Building Materials</td>\n",
              "      <td>368</td>\n",
              "      <td>NaN</td>\n",
              "      <td>130451</td>\n",
              "      <td>NaN</td>\n",
              "      <td>...</td>\n",
              "      <td>Article</td>\n",
              "      <td>Final</td>\n",
              "      <td>All Open Access; Hybrid Gold Open Access</td>\n",
              "      <td>Scopus</td>\n",
              "      <td>2-s2.0-85147259294</td>\n",
              "      <td>P.R. Cunningham</td>\n",
              "      <td>Department of Civil and Environmental Enginee...</td>\n",
              "      <td>prcunningham@ucdavis.edu</td>\n",
              "      <td>Department of Civil and Environmental Enginee...</td>\n",
              "      <td>United States</td>\n",
              "    </tr>\n",
              "  </tbody>\n",
              "</table>\n",
              "<p>5 rows × 38 columns</p>\n",
              "</div>\n",
              "      <button class=\"colab-df-convert\" onclick=\"convertToInteractive('df-ac84eb07-3c14-4277-bedd-70ade1fe773e')\"\n",
              "              title=\"Convert this dataframe to an interactive table.\"\n",
              "              style=\"display:none;\">\n",
              "        \n",
              "  <svg xmlns=\"http://www.w3.org/2000/svg\" height=\"24px\"viewBox=\"0 0 24 24\"\n",
              "       width=\"24px\">\n",
              "    <path d=\"M0 0h24v24H0V0z\" fill=\"none\"/>\n",
              "    <path d=\"M18.56 5.44l.94 2.06.94-2.06 2.06-.94-2.06-.94-.94-2.06-.94 2.06-2.06.94zm-11 1L8.5 8.5l.94-2.06 2.06-.94-2.06-.94L8.5 2.5l-.94 2.06-2.06.94zm10 10l.94 2.06.94-2.06 2.06-.94-2.06-.94-.94-2.06-.94 2.06-2.06.94z\"/><path d=\"M17.41 7.96l-1.37-1.37c-.4-.4-.92-.59-1.43-.59-.52 0-1.04.2-1.43.59L10.3 9.45l-7.72 7.72c-.78.78-.78 2.05 0 2.83L4 21.41c.39.39.9.59 1.41.59.51 0 1.02-.2 1.41-.59l7.78-7.78 2.81-2.81c.8-.78.8-2.07 0-2.86zM5.41 20L4 18.59l7.72-7.72 1.47 1.35L5.41 20z\"/>\n",
              "  </svg>\n",
              "      </button>\n",
              "      \n",
              "  <style>\n",
              "    .colab-df-container {\n",
              "      display:flex;\n",
              "      flex-wrap:wrap;\n",
              "      gap: 12px;\n",
              "    }\n",
              "\n",
              "    .colab-df-convert {\n",
              "      background-color: #E8F0FE;\n",
              "      border: none;\n",
              "      border-radius: 50%;\n",
              "      cursor: pointer;\n",
              "      display: none;\n",
              "      fill: #1967D2;\n",
              "      height: 32px;\n",
              "      padding: 0 0 0 0;\n",
              "      width: 32px;\n",
              "    }\n",
              "\n",
              "    .colab-df-convert:hover {\n",
              "      background-color: #E2EBFA;\n",
              "      box-shadow: 0px 1px 2px rgba(60, 64, 67, 0.3), 0px 1px 3px 1px rgba(60, 64, 67, 0.15);\n",
              "      fill: #174EA6;\n",
              "    }\n",
              "\n",
              "    [theme=dark] .colab-df-convert {\n",
              "      background-color: #3B4455;\n",
              "      fill: #D2E3FC;\n",
              "    }\n",
              "\n",
              "    [theme=dark] .colab-df-convert:hover {\n",
              "      background-color: #434B5C;\n",
              "      box-shadow: 0px 1px 3px 1px rgba(0, 0, 0, 0.15);\n",
              "      filter: drop-shadow(0px 1px 2px rgba(0, 0, 0, 0.3));\n",
              "      fill: #FFFFFF;\n",
              "    }\n",
              "  </style>\n",
              "\n",
              "      <script>\n",
              "        const buttonEl =\n",
              "          document.querySelector('#df-ac84eb07-3c14-4277-bedd-70ade1fe773e button.colab-df-convert');\n",
              "        buttonEl.style.display =\n",
              "          google.colab.kernel.accessAllowed ? 'block' : 'none';\n",
              "\n",
              "        async function convertToInteractive(key) {\n",
              "          const element = document.querySelector('#df-ac84eb07-3c14-4277-bedd-70ade1fe773e');\n",
              "          const dataTable =\n",
              "            await google.colab.kernel.invokeFunction('convertToInteractive',\n",
              "                                                     [key], {});\n",
              "          if (!dataTable) return;\n",
              "\n",
              "          const docLinkHtml = 'Like what you see? Visit the ' +\n",
              "            '<a target=\"_blank\" href=https://colab.research.google.com/notebooks/data_table.ipynb>data table notebook</a>'\n",
              "            + ' to learn more about interactive tables.';\n",
              "          element.innerHTML = '';\n",
              "          dataTable['output_type'] = 'display_data';\n",
              "          await google.colab.output.renderOutput(dataTable, element);\n",
              "          const docLink = document.createElement('div');\n",
              "          docLink.innerHTML = docLinkHtml;\n",
              "          element.appendChild(docLink);\n",
              "        }\n",
              "      </script>\n",
              "    </div>\n",
              "  </div>\n",
              "  "
            ]
          },
          "metadata": {},
          "execution_count": 186
        }
      ]
    },
    {
      "cell_type": "code",
      "source": [
        "name=scopus['cor_name'].iloc[9].replace(',','')"
      ],
      "metadata": {
        "id": "TcOnzTgjciGm"
      },
      "execution_count": 115,
      "outputs": []
    },
    {
      "cell_type": "code",
      "source": [
        "name_list=[]\n",
        "for lname, fname in  [q.split() for q in scopus['Authors'].iloc[9].split(';')]:\n",
        "  name_list.append(fname+' '+lname)\n"
      ],
      "metadata": {
        "id": "IkoOoki7ciOs"
      },
      "execution_count": 116,
      "outputs": []
    },
    {
      "cell_type": "code",
      "source": [
        "list(scopus['Author(s) ID'].iloc[9].split(';'))[name_list.index(name)].strip()"
      ],
      "metadata": {
        "colab": {
          "base_uri": "https://localhost:8080/",
          "height": 35
        },
        "id": "fscpMJB8e8C4",
        "outputId": "77ca09a2-dc43-4c76-c518-7c10bb7ca392"
      },
      "execution_count": 117,
      "outputs": [
        {
          "output_type": "execute_result",
          "data": {
            "text/plain": [
              "'36161483700'"
            ],
            "application/vnd.google.colaboratory.intrinsic+json": {
              "type": "string"
            }
          },
          "metadata": {},
          "execution_count": 117
        }
      ]
    },
    {
      "cell_type": "code",
      "execution_count": 162,
      "metadata": {
        "colab": {
          "base_uri": "https://localhost:8080/",
          "height": 35
        },
        "id": "IdmREDvbxU6z",
        "outputId": "017b60a8-b888-45f5-bbd7-3cb9914dd6f5"
      },
      "outputs": [
        {
          "output_type": "execute_result",
          "data": {
            "text/plain": [
              "' Wang, Weizhe '"
            ],
            "application/vnd.google.colaboratory.intrinsic+json": {
              "type": "string"
            }
          },
          "metadata": {},
          "execution_count": 162
        }
      ],
      "source": [
        "name=scopus['cor_name'].iloc[2].replace(',','')\n",
        "name_list=[]\n",
        "for lname, fname in  [q.split() for q in scopus['Authors'].iloc[2].split(';')]:\n",
        "  name_list.append(fname+' '+lname)\n",
        "ind=name_list.index(name)\n",
        "list(scopus['Author(s) ID'].iloc[2].split(';'))[ind].strip()\n",
        "full_name=list(scopus['Author full names'].iloc[2].split(';'))[ind]\n",
        "name_end=list(scopus['Author full names'].iloc[2].split(';'))[ind].find('(')\n",
        "full_name[:name_end]"
      ]
    },
    {
      "cell_type": "code",
      "execution_count": null,
      "metadata": {
        "id": "tNubjJltxU61"
      },
      "outputs": [],
      "source": [
        "ids=[]\n",
        "for i in range (len(scopus)):\n",
        "    try:\n",
        "        name=scopus['cor_name'].iloc[i].replace(',','')\n",
        "        list(map(str.strip, list(scopus['Authors'].iloc[i].split(',')))).index(name)\n",
        "        ind=[x.strip() for x in list(scopus['Authors'].iloc[i].split(','))].index(name)\n",
        "        ids.append(list(scopus['Author(s) ID'].iloc[i].split(';'))[ind])\n",
        "    except ValueError:\n",
        "        ids.append(0)"
      ]
    },
    {
      "cell_type": "code",
      "source": [
        "ids=[]\n",
        "names=[]\n",
        "for i in range (len(scopus)):\n",
        "    try:\n",
        "        name=scopus['cor_name'].iloc[i].replace(',','')\n",
        "        name_list=[]\n",
        "        print(i)\n",
        "        for lname, fname in  [q.split() for q in scopus['Authors'].iloc[i].split(';')]:\n",
        "          name_list.append(fname+' '+lname)\n",
        "        ind=name_list.index(name)\n",
        "        ids.append(list(scopus['Author(s) ID'].iloc[i].split(';'))[ind].strip())\n",
        "        full_name=list(scopus['Author full names'].iloc[i].split(';'))[ind]\n",
        "        name_end=list(scopus['Author full names'].iloc[i].split(';'))[ind].find('(')\n",
        "        names.append(full_name[:name_end])\n",
        "    except ValueError:\n",
        "        ids.append(0)\n",
        "        names.append(0)"
      ],
      "metadata": {
        "id": "x2n6PjUKmsxN"
      },
      "execution_count": null,
      "outputs": []
    },
    {
      "cell_type": "code",
      "source": [
        "name=scopus['cor_name'].iloc[i].replace(',','')\n",
        "        name_list=[]\n",
        "        print(i)\n",
        "        for lname, fname in  [q.split() for q in scopus['Authors'].iloc[i].split(';')]:\n",
        "          name_list.append(fname+' '+lname)\n",
        "          ind=name_list.index(name)\n",
        "          ids.append(list(scopus['Author(s) ID'].iloc[i].split(';'))[ind].strip())\n",
        "          full_name=list(scopus['Author full names'].iloc[i].split(';'))[ind]\n",
        "          name_end=list(scopus['Author full names'].iloc[i].split(';'))[ind].find('(')\n",
        "          names.append(full_name[:name_end])"
      ],
      "metadata": {
        "id": "yVyvtxy1uFhZ"
      },
      "execution_count": null,
      "outputs": []
    },
    {
      "cell_type": "code",
      "source": [
        "names[0:5]"
      ],
      "metadata": {
        "colab": {
          "base_uri": "https://localhost:8080/"
        },
        "id": "2J4XJpIKtkKX",
        "outputId": "53782b2b-fae7-4a27-ac0b-15d25921fe8a"
      },
      "execution_count": 192,
      "outputs": [
        {
          "output_type": "execute_result",
          "data": {
            "text/plain": [
              "['Li, Biao ',\n",
              " ' Glodež, Srečko ',\n",
              " ' Wang, Weizhe ',\n",
              " ' Chen, Chang Qing ',\n",
              " 'Cunningham, Patrick R. ']"
            ]
          },
          "metadata": {},
          "execution_count": 192
        }
      ]
    },
    {
      "cell_type": "code",
      "execution_count": 185,
      "metadata": {
        "id": "7ZzTjPURxU61"
      },
      "outputs": [],
      "source": [
        "weblist = ['https://www.scopus.com/authid/detail.uri?authorId='+str(x) for x in ids]"
      ]
    },
    {
      "cell_type": "code",
      "execution_count": 187,
      "metadata": {
        "id": "-VguJf2exU61"
      },
      "outputs": [],
      "source": [
        "scopus=scopus.reset_index().drop('index',axis=1)"
      ]
    },
    {
      "cell_type": "code",
      "execution_count": 193,
      "metadata": {
        "id": "8L646pajxU62"
      },
      "outputs": [],
      "source": [
        "scopus['cor_id']=pd.Series(ids)\n",
        "scopus['cor_fullname']=pd.Series(names)\n",
        "scopus['URL']=pd.Series(weblist)"
      ]
    },
    {
      "cell_type": "code",
      "execution_count": 194,
      "metadata": {
        "id": "Y4WJrResxU62"
      },
      "outputs": [],
      "source": [
        "new_scopus=scopus[['cor_name','cor_fullname','cor_id','cor_aff','email','cor_ins','country','Author Keywords','Indexed Keywords','URL']]"
      ]
    },
    {
      "cell_type": "code",
      "execution_count": 195,
      "metadata": {
        "colab": {
          "base_uri": "https://localhost:8080/"
        },
        "id": "5hkX41gsxU62",
        "outputId": "c2c09cd6-dfd5-483c-adee-e531b54cd85b"
      },
      "outputs": [
        {
          "output_type": "stream",
          "name": "stderr",
          "text": [
            "/usr/local/lib/python3.8/dist-packages/pandas/core/frame.py:4906: SettingWithCopyWarning: \n",
            "A value is trying to be set on a copy of a slice from a DataFrame\n",
            "\n",
            "See the caveats in the documentation: https://pandas.pydata.org/pandas-docs/stable/user_guide/indexing.html#returning-a-view-versus-a-copy\n",
            "  return super().drop(\n"
          ]
        }
      ],
      "source": [
        "new_scopus.drop(new_scopus[new_scopus['cor_id']==0].index,axis=0,inplace=True)"
      ]
    },
    {
      "cell_type": "code",
      "source": [
        "new_scopus.head()"
      ],
      "metadata": {
        "colab": {
          "base_uri": "https://localhost:8080/",
          "height": 652
        },
        "id": "8RQlxalbwcUt",
        "outputId": "efd11eae-8661-4452-cdcf-a763dcafbd92"
      },
      "execution_count": 196,
      "outputs": [
        {
          "output_type": "execute_result",
          "data": {
            "text/plain": [
              "          cor_name             cor_fullname       cor_id  \\\n",
              "0            B. Li                Li, Biao   57811009600   \n",
              "1        S. Glodež          Glodež, Srečko    7004485428   \n",
              "2          W. Wang            Wang, Weizhe   35188155500   \n",
              "3        C.Q. Chen        Chen, Chang Qing   35261405300   \n",
              "4  P.R. Cunningham  Cunningham, Patrick R.   57208263230   \n",
              "\n",
              "                                             cor_aff  \\\n",
              "0   School of Civil Engineering, Architecture and...   \n",
              "1   University of Maribor, Faculty of Mechanical ...   \n",
              "2   Key Laboratory of Power Machinery and Enginee...   \n",
              "3   Department of Engineering Mechanics, CNMM and...   \n",
              "4   Department of Civil and Environmental Enginee...   \n",
              "\n",
              "                       email  \\\n",
              "0         libiao@hbut.edu.cn   \n",
              "1        srecko.glodez@um.si   \n",
              "2     wangwz0214@sjtu.edu.cn   \n",
              "3     chencq@tsinghua.edu.cn   \n",
              "4   prcunningham@ucdavis.edu   \n",
              "\n",
              "                                             cor_ins         country  \\\n",
              "0                        School of Civil Engineering           China   \n",
              "1                              University of Maribor        Slovenia   \n",
              "2   Key Laboratory of Power Machinery and Enginee...           China   \n",
              "3                Department of Engineering Mechanics           China   \n",
              "4   Department of Civil and Environmental Enginee...   United States   \n",
              "\n",
              "                                     Author Keywords  \\\n",
              "0  Alkali-activated slag-based concrete; Failure ...   \n",
              "1  Aluminium Alloy AA 6086; Experimental testing;...   \n",
              "2  Bond-based peridynamic; Elastic displacement; ...   \n",
              "3  Dispersion; Higher harmonic generation; Mechan...   \n",
              "4  Filler; Mechanical properties; Mineral admixtu...   \n",
              "\n",
              "                                    Indexed Keywords  \\\n",
              "0  Carbon; Compressive strength; Concrete aggrega...   \n",
              "1                                                NaN   \n",
              "2  Complex networks; Phase interfaces; Plates (st...   \n",
              "3  Dispersions; Elastic waves; Harmonic analysis;...   \n",
              "4  Calcium carbonate; Compressive strength; Concr...   \n",
              "\n",
              "                                                 URL  \n",
              "0  https://www.scopus.com/authid/detail.uri?autho...  \n",
              "1  https://www.scopus.com/authid/detail.uri?autho...  \n",
              "2  https://www.scopus.com/authid/detail.uri?autho...  \n",
              "3  https://www.scopus.com/authid/detail.uri?autho...  \n",
              "4  https://www.scopus.com/authid/detail.uri?autho...  "
            ],
            "text/html": [
              "\n",
              "  <div id=\"df-09c82ad7-40c9-4393-b767-6ae0a3ad4a48\">\n",
              "    <div class=\"colab-df-container\">\n",
              "      <div>\n",
              "<style scoped>\n",
              "    .dataframe tbody tr th:only-of-type {\n",
              "        vertical-align: middle;\n",
              "    }\n",
              "\n",
              "    .dataframe tbody tr th {\n",
              "        vertical-align: top;\n",
              "    }\n",
              "\n",
              "    .dataframe thead th {\n",
              "        text-align: right;\n",
              "    }\n",
              "</style>\n",
              "<table border=\"1\" class=\"dataframe\">\n",
              "  <thead>\n",
              "    <tr style=\"text-align: right;\">\n",
              "      <th></th>\n",
              "      <th>cor_name</th>\n",
              "      <th>cor_fullname</th>\n",
              "      <th>cor_id</th>\n",
              "      <th>cor_aff</th>\n",
              "      <th>email</th>\n",
              "      <th>cor_ins</th>\n",
              "      <th>country</th>\n",
              "      <th>Author Keywords</th>\n",
              "      <th>Indexed Keywords</th>\n",
              "      <th>URL</th>\n",
              "    </tr>\n",
              "  </thead>\n",
              "  <tbody>\n",
              "    <tr>\n",
              "      <th>0</th>\n",
              "      <td>B. Li</td>\n",
              "      <td>Li, Biao</td>\n",
              "      <td>57811009600</td>\n",
              "      <td>School of Civil Engineering, Architecture and...</td>\n",
              "      <td>libiao@hbut.edu.cn</td>\n",
              "      <td>School of Civil Engineering</td>\n",
              "      <td>China</td>\n",
              "      <td>Alkali-activated slag-based concrete; Failure ...</td>\n",
              "      <td>Carbon; Compressive strength; Concrete aggrega...</td>\n",
              "      <td>https://www.scopus.com/authid/detail.uri?autho...</td>\n",
              "    </tr>\n",
              "    <tr>\n",
              "      <th>1</th>\n",
              "      <td>S. Glodež</td>\n",
              "      <td>Glodež, Srečko</td>\n",
              "      <td>7004485428</td>\n",
              "      <td>University of Maribor, Faculty of Mechanical ...</td>\n",
              "      <td>srecko.glodez@um.si</td>\n",
              "      <td>University of Maribor</td>\n",
              "      <td>Slovenia</td>\n",
              "      <td>Aluminium Alloy AA 6086; Experimental testing;...</td>\n",
              "      <td>NaN</td>\n",
              "      <td>https://www.scopus.com/authid/detail.uri?autho...</td>\n",
              "    </tr>\n",
              "    <tr>\n",
              "      <th>2</th>\n",
              "      <td>W. Wang</td>\n",
              "      <td>Wang, Weizhe</td>\n",
              "      <td>35188155500</td>\n",
              "      <td>Key Laboratory of Power Machinery and Enginee...</td>\n",
              "      <td>wangwz0214@sjtu.edu.cn</td>\n",
              "      <td>Key Laboratory of Power Machinery and Enginee...</td>\n",
              "      <td>China</td>\n",
              "      <td>Bond-based peridynamic; Elastic displacement; ...</td>\n",
              "      <td>Complex networks; Phase interfaces; Plates (st...</td>\n",
              "      <td>https://www.scopus.com/authid/detail.uri?autho...</td>\n",
              "    </tr>\n",
              "    <tr>\n",
              "      <th>3</th>\n",
              "      <td>C.Q. Chen</td>\n",
              "      <td>Chen, Chang Qing</td>\n",
              "      <td>35261405300</td>\n",
              "      <td>Department of Engineering Mechanics, CNMM and...</td>\n",
              "      <td>chencq@tsinghua.edu.cn</td>\n",
              "      <td>Department of Engineering Mechanics</td>\n",
              "      <td>China</td>\n",
              "      <td>Dispersion; Higher harmonic generation; Mechan...</td>\n",
              "      <td>Dispersions; Elastic waves; Harmonic analysis;...</td>\n",
              "      <td>https://www.scopus.com/authid/detail.uri?autho...</td>\n",
              "    </tr>\n",
              "    <tr>\n",
              "      <th>4</th>\n",
              "      <td>P.R. Cunningham</td>\n",
              "      <td>Cunningham, Patrick R.</td>\n",
              "      <td>57208263230</td>\n",
              "      <td>Department of Civil and Environmental Enginee...</td>\n",
              "      <td>prcunningham@ucdavis.edu</td>\n",
              "      <td>Department of Civil and Environmental Enginee...</td>\n",
              "      <td>United States</td>\n",
              "      <td>Filler; Mechanical properties; Mineral admixtu...</td>\n",
              "      <td>Calcium carbonate; Compressive strength; Concr...</td>\n",
              "      <td>https://www.scopus.com/authid/detail.uri?autho...</td>\n",
              "    </tr>\n",
              "  </tbody>\n",
              "</table>\n",
              "</div>\n",
              "      <button class=\"colab-df-convert\" onclick=\"convertToInteractive('df-09c82ad7-40c9-4393-b767-6ae0a3ad4a48')\"\n",
              "              title=\"Convert this dataframe to an interactive table.\"\n",
              "              style=\"display:none;\">\n",
              "        \n",
              "  <svg xmlns=\"http://www.w3.org/2000/svg\" height=\"24px\"viewBox=\"0 0 24 24\"\n",
              "       width=\"24px\">\n",
              "    <path d=\"M0 0h24v24H0V0z\" fill=\"none\"/>\n",
              "    <path d=\"M18.56 5.44l.94 2.06.94-2.06 2.06-.94-2.06-.94-.94-2.06-.94 2.06-2.06.94zm-11 1L8.5 8.5l.94-2.06 2.06-.94-2.06-.94L8.5 2.5l-.94 2.06-2.06.94zm10 10l.94 2.06.94-2.06 2.06-.94-2.06-.94-.94-2.06-.94 2.06-2.06.94z\"/><path d=\"M17.41 7.96l-1.37-1.37c-.4-.4-.92-.59-1.43-.59-.52 0-1.04.2-1.43.59L10.3 9.45l-7.72 7.72c-.78.78-.78 2.05 0 2.83L4 21.41c.39.39.9.59 1.41.59.51 0 1.02-.2 1.41-.59l7.78-7.78 2.81-2.81c.8-.78.8-2.07 0-2.86zM5.41 20L4 18.59l7.72-7.72 1.47 1.35L5.41 20z\"/>\n",
              "  </svg>\n",
              "      </button>\n",
              "      \n",
              "  <style>\n",
              "    .colab-df-container {\n",
              "      display:flex;\n",
              "      flex-wrap:wrap;\n",
              "      gap: 12px;\n",
              "    }\n",
              "\n",
              "    .colab-df-convert {\n",
              "      background-color: #E8F0FE;\n",
              "      border: none;\n",
              "      border-radius: 50%;\n",
              "      cursor: pointer;\n",
              "      display: none;\n",
              "      fill: #1967D2;\n",
              "      height: 32px;\n",
              "      padding: 0 0 0 0;\n",
              "      width: 32px;\n",
              "    }\n",
              "\n",
              "    .colab-df-convert:hover {\n",
              "      background-color: #E2EBFA;\n",
              "      box-shadow: 0px 1px 2px rgba(60, 64, 67, 0.3), 0px 1px 3px 1px rgba(60, 64, 67, 0.15);\n",
              "      fill: #174EA6;\n",
              "    }\n",
              "\n",
              "    [theme=dark] .colab-df-convert {\n",
              "      background-color: #3B4455;\n",
              "      fill: #D2E3FC;\n",
              "    }\n",
              "\n",
              "    [theme=dark] .colab-df-convert:hover {\n",
              "      background-color: #434B5C;\n",
              "      box-shadow: 0px 1px 3px 1px rgba(0, 0, 0, 0.15);\n",
              "      filter: drop-shadow(0px 1px 2px rgba(0, 0, 0, 0.3));\n",
              "      fill: #FFFFFF;\n",
              "    }\n",
              "  </style>\n",
              "\n",
              "      <script>\n",
              "        const buttonEl =\n",
              "          document.querySelector('#df-09c82ad7-40c9-4393-b767-6ae0a3ad4a48 button.colab-df-convert');\n",
              "        buttonEl.style.display =\n",
              "          google.colab.kernel.accessAllowed ? 'block' : 'none';\n",
              "\n",
              "        async function convertToInteractive(key) {\n",
              "          const element = document.querySelector('#df-09c82ad7-40c9-4393-b767-6ae0a3ad4a48');\n",
              "          const dataTable =\n",
              "            await google.colab.kernel.invokeFunction('convertToInteractive',\n",
              "                                                     [key], {});\n",
              "          if (!dataTable) return;\n",
              "\n",
              "          const docLinkHtml = 'Like what you see? Visit the ' +\n",
              "            '<a target=\"_blank\" href=https://colab.research.google.com/notebooks/data_table.ipynb>data table notebook</a>'\n",
              "            + ' to learn more about interactive tables.';\n",
              "          element.innerHTML = '';\n",
              "          dataTable['output_type'] = 'display_data';\n",
              "          await google.colab.output.renderOutput(dataTable, element);\n",
              "          const docLink = document.createElement('div');\n",
              "          docLink.innerHTML = docLinkHtml;\n",
              "          element.appendChild(docLink);\n",
              "        }\n",
              "      </script>\n",
              "    </div>\n",
              "  </div>\n",
              "  "
            ]
          },
          "metadata": {},
          "execution_count": 196
        }
      ]
    },
    {
      "cell_type": "code",
      "execution_count": null,
      "metadata": {
        "id": "7AyUpy32xU63",
        "outputId": "6724abde-00f1-44de-d987-28322e999674"
      },
      "outputs": [
        {
          "name": "stderr",
          "output_type": "stream",
          "text": [
            "/var/folders/nd/vwdy1rlj54734xdq5ddj0zcr0000gn/T/ipykernel_91740/3373783923.py:24: SettingWithCopyWarning: \n",
            "A value is trying to be set on a copy of a slice from a DataFrame\n",
            "\n",
            "See the caveats in the documentation: https://pandas.pydata.org/pandas-docs/stable/user_guide/indexing.html#returning-a-view-versus-a-copy\n",
            "  new_scopus.drop(new_scopus[new_scopus['cor_id']==0].index,axis=0,inplace=True)\n"
          ]
        }
      ],
      "source": [
        "import sys\n",
        "import pandas as pd\n",
        "ids=[]\n",
        "names=[]\n",
        "path = sys.argv[1]\n",
        "scopus=pd.read_csv('/Users/tanfei/Documents/SpringerNature/purge/scopus.csv',sep=',')\n",
        "scopus.dropna(axis=0, how='any',subset=['Correspondence Address'],inplace=True)\n",
        "scopus[['cor_name','cor_aff','email']]=scopus['Correspondence Address'].str.split(';',expand=True).iloc[:,:3]\n",
        "scopus['cor_ins']=scopus['cor_aff'].dropna().map(lambda x: x.split(',')[0])\n",
        "scopus['country']=scopus['cor_aff'].dropna().map(lambda x: x.split(',')[-1])\n",
        "scopus['email']=scopus['email'].map(lambda x: x[7:] if x is not None else 0)\n",
        "for i in range (len(scopus)):\n",
        "    try:\n",
        "        name=scopus['cor_name'].iloc[i].replace(',','')\n",
        "        list(map(str.strip, list(scopus['Authors'].iloc[i].split(',')))).index(name)\n",
        "        ind=[x.strip() for x in list(scopus['Authors'].iloc[i].split(','))].index(name)\n",
        "        ids.append(list(scopus['Author(s) ID'].iloc[i].split(';'))[ind])\n",
        "        name_end=scopus['Author full names'].iloc[i].find(str(ids[-1]))\n",
        "        name_start=scopus['Author full names'].iloc[i].rfind(';',0,id_ind)\n",
        "        names.append(scopus['Author full names'].iloc[i][name_start:name_end])\n",
        "    except ValueError:\n",
        "        ids.append(0)\n",
        "weblist = ['https://www.scopus.com/authid/detail.uri?authorId='+str(x) for x in ids]\n",
        "scopus=scopus.reset_index().drop('index',axis=1)\n",
        "scopus['cor_id']=pd.Series(ids)\n",
        "scopus['URL']=pd.Series(weblist)\n",
        "new_scopus=scopus[['cor_name','cor_id','cor_aff','email','cor_ins','country','Author Keywords','Index Keywords','URL']]\n",
        "new_scopus.drop(new_scopus[new_scopus['cor_id']==0].index,axis=0,inplace=True)\n",
        "new_scopus.to_csv('output.csv',encoding='utf_8_sig')"
      ]
    },
    {
      "cell_type": "code",
      "execution_count": null,
      "metadata": {
        "id": "ev-aNtEKxU63"
      },
      "outputs": [],
      "source": [
        "new_scopus.to_csv('output.csv',encoding='utf_8_sig')"
      ]
    },
    {
      "cell_type": "code",
      "source": [
        "import sys\n",
        "import pandas as pd\n",
        "ids=[]\n",
        "names=[]\n",
        "path = sys.argv[1]\n",
        "scopus=pd.read_csv('/Users/tanfei/Documents/SpringerNature/purge/scopus.csv',sep=',')\n",
        "scopus.dropna(axis=0, how='any',subset=['Correspondence Address'],inplace=True)\n",
        "scopus[['cor_name','cor_aff','email']]=scopus['Correspondence Address'].str.split(';',expand=True).iloc[:,:3]\n",
        "scopus['cor_ins']=scopus['cor_aff'].dropna().map(lambda x: x.split(',')[0])\n",
        "scopus['country']=scopus['cor_aff'].dropna().map(lambda x: x.split(',')[-1])\n",
        "scopus['email']=scopus['email'].map(lambda x: x[7:] if x is not None else 0)\n",
        "for i in range (len(scopus)):\n",
        "    try:\n",
        "        name=scopus['cor_name'].iloc[i].replace(',','')\n",
        "        list(map(str.strip, list(scopus['Authors'].iloc[i].split(',')))).index(name)\n",
        "        ind=[x.strip() for x in list(scopus['Authors'].iloc[i].split(','))].index(name)\n",
        "        ids.append(list(scopus['Author(s) ID'].iloc[i].split(';'))[ind])\n",
        "        full_name=scopus['Author full names'].iloc[i].split(';')[ids[-1]]\n",
        "        name_end=full_name.find('(')\n",
        "        names.append(full_name[:name_end])\n",
        "    except ValueError:\n",
        "        ids.append(0)\n",
        "weblist = ['https://www.scopus.com/authid/detail.uri?authorId='+str(x) for x in ids]\n",
        "scopus=scopus.reset_index().drop('index',axis=1)\n",
        "scopus['cor_id']=pd.Series(ids)\n",
        "scopus['URL']=pd.Series(weblist)\n",
        "new_scopus=scopus[['cor_name','cor_id','cor_aff','email','cor_ins','country','Author Keywords','Index Keywords','URL']]\n",
        "new_scopus.drop(new_scopus[new_scopus['cor_id']==0].index,axis=0,inplace=True)\n",
        "new_scopus.to_csv('output.csv',encoding='utf_8_sig')"
      ],
      "metadata": {
        "id": "gNi7cy1pSv1y"
      },
      "execution_count": null,
      "outputs": []
    },
    {
      "cell_type": "code",
      "source": [
        "import pandas as pd\n",
        "scopus=pd.read_csv('/content/scopus_new.csv',sep=',')\n",
        "scopus.dropna(axis=0, how='any',subset=['Correspondence Address','Authors'],inplace=True)\n",
        "scopus[['cor_name','cor_aff','email']]=scopus['Correspondence Address'].str.split(';',expand=True).iloc[:,:3]\n",
        "scopus['cor_ins']=scopus['cor_aff'].fillna('Nothing').map(lambda x: x.split(',')[0])\n",
        "scopus['country']=scopus['cor_aff'].fillna('Nothing').map(lambda x: x.split(',')[-1])\n",
        "scopus['email']=scopus['email'].astype(str)\n",
        "scopus['email']=scopus['email'].map(lambda x: x[7:] if x is not None else 0)\n",
        "ids=[]\n",
        "names=[]\n",
        "for i in range (len(scopus)):\n",
        "    try:\n",
        "        name=scopus['cor_name'].iloc[i].replace(',','')\n",
        "        name_list=[]\n",
        "        for lname, fname in  [q.split() for q in scopus['Authors'].iloc[i].split(';')]:\n",
        "          name_list.append(fname+' '+lname)\n",
        "        ind=name_list.index(name)\n",
        "        ids.append(list(scopus['Author(s) ID'].iloc[i].split(';'))[ind].strip())\n",
        "        full_name=list(scopus['Author full names'].iloc[i].split(';'))[ind]\n",
        "        name_end=list(scopus['Author full names'].iloc[i].split(';'))[ind].find('(')\n",
        "        names.append(full_name[:name_end])\n",
        "    except ValueError:\n",
        "        ids.append(0)\n",
        "        names.append(0)\n",
        "weblist = ['https://www.scopus.com/authid/detail.uri?authorId='+str(x) for x in ids]\n",
        "scopus=scopus.reset_index().drop('index',axis=1)\n",
        "scopus['cor_id']=pd.Series(ids)\n",
        "scopus['cor_fullname']=pd.Series(names)\n",
        "scopus['URL']=pd.Series(weblist)\n",
        "new_scopus=scopus[['cor_name','cor_fullname','cor_id','cor_aff','email','cor_ins','country','Author Keywords','Indexed Keywords','URL']]\n",
        "new_scopus.drop(new_scopus[new_scopus['cor_id']==0].index,axis=0,inplace=True)\n",
        "new_scopus.to_csv('output_20000.csv',encoding='utf_8_sig')"
      ],
      "metadata": {
        "id": "rd0jW0_-w5KN"
      },
      "execution_count": 199,
      "outputs": []
    },
    {
      "cell_type": "code",
      "source": [
        "files.download('output_20000.csv')"
      ],
      "metadata": {
        "colab": {
          "base_uri": "https://localhost:8080/",
          "height": 17
        },
        "id": "mWAfyiW_BuxL",
        "outputId": "1a680106-5ad5-45d2-c5fc-6e4759c351da"
      },
      "execution_count": 200,
      "outputs": [
        {
          "output_type": "display_data",
          "data": {
            "text/plain": [
              "<IPython.core.display.Javascript object>"
            ],
            "application/javascript": [
              "\n",
              "    async function download(id, filename, size) {\n",
              "      if (!google.colab.kernel.accessAllowed) {\n",
              "        return;\n",
              "      }\n",
              "      const div = document.createElement('div');\n",
              "      const label = document.createElement('label');\n",
              "      label.textContent = `Downloading \"${filename}\": `;\n",
              "      div.appendChild(label);\n",
              "      const progress = document.createElement('progress');\n",
              "      progress.max = size;\n",
              "      div.appendChild(progress);\n",
              "      document.body.appendChild(div);\n",
              "\n",
              "      const buffers = [];\n",
              "      let downloaded = 0;\n",
              "\n",
              "      const channel = await google.colab.kernel.comms.open(id);\n",
              "      // Send a message to notify the kernel that we're ready.\n",
              "      channel.send({})\n",
              "\n",
              "      for await (const message of channel.messages) {\n",
              "        // Send a message to notify the kernel that we're ready.\n",
              "        channel.send({})\n",
              "        if (message.buffers) {\n",
              "          for (const buffer of message.buffers) {\n",
              "            buffers.push(buffer);\n",
              "            downloaded += buffer.byteLength;\n",
              "            progress.value = downloaded;\n",
              "          }\n",
              "        }\n",
              "      }\n",
              "      const blob = new Blob(buffers, {type: 'application/binary'});\n",
              "      const a = document.createElement('a');\n",
              "      a.href = window.URL.createObjectURL(blob);\n",
              "      a.download = filename;\n",
              "      div.appendChild(a);\n",
              "      a.click();\n",
              "      div.remove();\n",
              "    }\n",
              "  "
            ]
          },
          "metadata": {}
        },
        {
          "output_type": "display_data",
          "data": {
            "text/plain": [
              "<IPython.core.display.Javascript object>"
            ],
            "application/javascript": [
              "download(\"download_1d2794e8-32c9-4f9b-a9f5-431020a9b8c5\", \"output_20000.csv\", 11224880)"
            ]
          },
          "metadata": {}
        }
      ]
    }
  ],
  "metadata": {
    "kernelspec": {
      "display_name": "Python 3",
      "language": "python",
      "name": "python3"
    },
    "language_info": {
      "codemirror_mode": {
        "name": "ipython",
        "version": 3
      },
      "file_extension": ".py",
      "mimetype": "text/x-python",
      "name": "python",
      "nbconvert_exporter": "python",
      "pygments_lexer": "ipython3",
      "version": "3.8.1"
    },
    "orig_nbformat": 4,
    "vscode": {
      "interpreter": {
        "hash": "aee8b7b246df8f9039afb4144a1f6fd8d2ca17a180786b69acc140d282b71a49"
      }
    },
    "colab": {
      "provenance": []
    }
  },
  "nbformat": 4,
  "nbformat_minor": 0
}