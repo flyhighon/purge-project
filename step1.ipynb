{
 "cells": [
  {
   "cell_type": "code",
   "execution_count": 227,
   "metadata": {},
   "outputs": [],
   "source": [
    "import pandas as pd\n",
    "scopus=pd.read_csv('/Users/tanfei/Documents/SpringerNature/purge/scopus.csv',sep=',')"
   ]
  },
  {
   "cell_type": "code",
   "execution_count": 228,
   "metadata": {},
   "outputs": [],
   "source": [
    "scopus.dropna(axis=0, how='any',subset=['Correspondence Address'],inplace=True)"
   ]
  },
  {
   "cell_type": "code",
   "execution_count": 229,
   "metadata": {},
   "outputs": [],
   "source": [
    "scopus[['cor_name','cor_aff','email']]=scopus['Correspondence Address'].str.split(';',expand=True).iloc[:,:3]"
   ]
  },
  {
   "cell_type": "code",
   "execution_count": 230,
   "metadata": {},
   "outputs": [],
   "source": [
    "scopus['cor_ins']=scopus['cor_aff'].dropna().map(lambda x: x.split(',')[0])\n",
    "scopus['country']=scopus['cor_aff'].dropna().map(lambda x: x.split(',')[-1])"
   ]
  },
  {
   "cell_type": "code",
   "execution_count": 231,
   "metadata": {},
   "outputs": [],
   "source": [
    "scopus['email']=scopus['email'].map(lambda x: x[7:] if x is not None else 0)\n"
   ]
  },
  {
   "cell_type": "code",
   "execution_count": 178,
   "metadata": {},
   "outputs": [
    {
     "data": {
      "text/plain": [
       "'57909637000'"
      ]
     },
     "execution_count": 178,
     "metadata": {},
     "output_type": "execute_result"
    }
   ],
   "source": [
    "name=scopus['cor_name'].iloc[5].replace(',','')\n",
    "ind=[x.strip() for x in list(scopus['Authors'].iloc[5].split(','))].index(name)\n",
    "list(scopus['Author(s) ID'].iloc[5].split(';'))[ind]"
   ]
  },
  {
   "cell_type": "code",
   "execution_count": 224,
   "metadata": {},
   "outputs": [
    {
     "data": {
      "text/plain": [
       "'57207822064'"
      ]
     },
     "execution_count": 224,
     "metadata": {},
     "output_type": "execute_result"
    }
   ],
   "source": [
    "name=scopus['cor_name'].iloc[2].replace(',','')\n",
    "list(map(str.strip, list(scopus['Authors'].iloc[2].split(',')))).index(name)\n",
    "ind=[x.strip() for x in list(scopus['Authors'].iloc[2].split(','))].index(name)\n",
    "list(scopus['Author(s) ID'].iloc[2].split(';'))[ind]"
   ]
  },
  {
   "cell_type": "code",
   "execution_count": 181,
   "metadata": {},
   "outputs": [],
   "source": [
    "ids=[]\n",
    "for i in range (len(scopus)):\n",
    "    try:\n",
    "        name=scopus['cor_name'].iloc[i].replace(',','')\n",
    "        list(map(str.strip, list(scopus['Authors'].iloc[i].split(',')))).index(name)\n",
    "        ind=[x.strip() for x in list(scopus['Authors'].iloc[i].split(','))].index(name)\n",
    "        ids.append(list(scopus['Author(s) ID'].iloc[i].split(';'))[ind])\n",
    "    except ValueError:\n",
    "        ids.append(0)"
   ]
  },
  {
   "cell_type": "code",
   "execution_count": 268,
   "metadata": {},
   "outputs": [],
   "source": [
    "weblist = ['https://www.scopus.com/authid/detail.uri?authorId='+str(x) for x in ids]"
   ]
  },
  {
   "cell_type": "code",
   "execution_count": 243,
   "metadata": {},
   "outputs": [],
   "source": [
    "scopus=scopus.reset_index().drop('index',axis=1)"
   ]
  },
  {
   "cell_type": "code",
   "execution_count": 244,
   "metadata": {},
   "outputs": [],
   "source": [
    "scopus['cor_id']=pd.Series(ids)\n",
    "scopus['URL']=pd.Series(weblist)"
   ]
  },
  {
   "cell_type": "code",
   "execution_count": 246,
   "metadata": {},
   "outputs": [],
   "source": [
    "new_scopus=scopus[['cor_name','cor_id','cor_aff','email','cor_ins','country']]"
   ]
  },
  {
   "cell_type": "code",
   "execution_count": 251,
   "metadata": {},
   "outputs": [
    {
     "name": "stderr",
     "output_type": "stream",
     "text": [
      "/var/folders/nd/vwdy1rlj54734xdq5ddj0zcr0000gn/T/ipykernel_91740/1692743016.py:1: SettingWithCopyWarning: \n",
      "A value is trying to be set on a copy of a slice from a DataFrame\n",
      "\n",
      "See the caveats in the documentation: https://pandas.pydata.org/pandas-docs/stable/user_guide/indexing.html#returning-a-view-versus-a-copy\n",
      "  new_scopus.drop(new_scopus[new_scopus['cor_id']==0].index,axis=0,inplace=True)\n"
     ]
    }
   ],
   "source": [
    "new_scopus.drop(new_scopus[new_scopus['cor_id']==0].index,axis=0,inplace=True)"
   ]
  },
  {
   "cell_type": "code",
   "execution_count": null,
   "metadata": {},
   "outputs": [],
   "source": []
  },
  {
   "cell_type": "code",
   "execution_count": 270,
   "metadata": {},
   "outputs": [
    {
     "name": "stderr",
     "output_type": "stream",
     "text": [
      "/var/folders/nd/vwdy1rlj54734xdq5ddj0zcr0000gn/T/ipykernel_91740/3373783923.py:24: SettingWithCopyWarning: \n",
      "A value is trying to be set on a copy of a slice from a DataFrame\n",
      "\n",
      "See the caveats in the documentation: https://pandas.pydata.org/pandas-docs/stable/user_guide/indexing.html#returning-a-view-versus-a-copy\n",
      "  new_scopus.drop(new_scopus[new_scopus['cor_id']==0].index,axis=0,inplace=True)\n"
     ]
    }
   ],
   "source": [
    "import sys\n",
    "import pandas as pd\n",
    "ids=[]\n",
    "path = sys.argv[1]\n",
    "scopus=pd.read_csv('/Users/tanfei/Documents/SpringerNature/purge/scopus.csv',sep=',')\n",
    "scopus.dropna(axis=0, how='any',subset=['Correspondence Address'],inplace=True)\n",
    "scopus[['cor_name','cor_aff','email']]=scopus['Correspondence Address'].str.split(';',expand=True).iloc[:,:3]\n",
    "scopus['cor_ins']=scopus['cor_aff'].dropna().map(lambda x: x.split(',')[0])\n",
    "scopus['country']=scopus['cor_aff'].dropna().map(lambda x: x.split(',')[-1])\n",
    "scopus['email']=scopus['email'].map(lambda x: x[7:] if x is not None else 0)\n",
    "for i in range (len(scopus)):\n",
    "    try:\n",
    "        name=scopus['cor_name'].iloc[i].replace(',','')\n",
    "        list(map(str.strip, list(scopus['Authors'].iloc[i].split(',')))).index(name)\n",
    "        ind=[x.strip() for x in list(scopus['Authors'].iloc[i].split(','))].index(name)\n",
    "        ids.append(list(scopus['Author(s) ID'].iloc[i].split(';'))[ind])\n",
    "    except ValueError:\n",
    "        ids.append(0)\n",
    "weblist = ['https://www.scopus.com/authid/detail.uri?authorId='+str(x) for x in ids]\n",
    "scopus=scopus.reset_index().drop('index',axis=1)\n",
    "scopus['cor_id']=pd.Series(ids)\n",
    "scopus['URL']=pd.Series(weblist)\n",
    "new_scopus=scopus[['cor_name','cor_id','cor_aff','email','cor_ins','country','Author Keywords','Index Keywords','URL']]\n",
    "new_scopus.drop(new_scopus[new_scopus['cor_id']==0].index,axis=0,inplace=True)\n",
    "new_scopus.to_csv('output.csv',encoding='utf_8_sig')"
   ]
  },
  {
   "cell_type": "code",
   "execution_count": 271,
   "metadata": {},
   "outputs": [],
   "source": [
    "new_scopus.to_csv('output.csv',encoding='utf_8_sig')"
   ]
  }
 ],
 "metadata": {
  "kernelspec": {
   "display_name": "Python 3",
   "language": "python",
   "name": "python3"
  },
  "language_info": {
   "codemirror_mode": {
    "name": "ipython",
    "version": 3
   },
   "file_extension": ".py",
   "mimetype": "text/x-python",
   "name": "python",
   "nbconvert_exporter": "python",
   "pygments_lexer": "ipython3",
   "version": "3.8.1"
  },
  "orig_nbformat": 4,
  "vscode": {
   "interpreter": {
    "hash": "aee8b7b246df8f9039afb4144a1f6fd8d2ca17a180786b69acc140d282b71a49"
   }
  }
 },
 "nbformat": 4,
 "nbformat_minor": 2
}
